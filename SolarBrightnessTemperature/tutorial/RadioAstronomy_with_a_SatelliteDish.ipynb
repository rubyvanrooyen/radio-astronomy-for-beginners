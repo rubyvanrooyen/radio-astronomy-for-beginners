{
  "nbformat": 4,
  "nbformat_minor": 0,
  "metadata": {
    "kernelspec": {
      "name": "python3",
      "display_name": "Python 3"
    },
    "colab": {
      "name": "RadioAstronomy_with_a_SatelliteDish.ipynb",
      "provenance": [],
      "toc_visible": true,
      "include_colab_link": true
    }
  },
  "cells": [
    {
      "cell_type": "markdown",
      "metadata": {
        "id": "view-in-github",
        "colab_type": "text"
      },
      "source": [
        "<a href=\"https://colab.research.google.com/github/rubyvanrooyen/radio-astronomy-for-beginners/blob/master/SolarBrightnessTemperature/tutorial/RadioAstronomy_with_a_SatelliteDish.ipynb\" target=\"_parent\"><img src=\"https://colab.research.google.com/assets/colab-badge.svg\" alt=\"Open In Colab\"/></a>"
      ]
    },
    {
      "cell_type": "markdown",
      "metadata": {
        "id": "4SFQih5ylF8G"
      },
      "source": [
        "Clone Git repository with images for processing and notebooks of interest"
      ]
    },
    {
      "cell_type": "code",
      "metadata": {
        "id": "Ix2022ZPlFlF",
        "outputId": "59c548cb-0122-4bb1-9271-ac99f4987924",
        "colab": {
          "base_uri": "https://localhost:8080/",
          "height": 136
        }
      },
      "source": [
        "!git clone https://github.com/ska-sa/radio-astronomy-for-beginners.git"
      ],
      "execution_count": 1,
      "outputs": [
        {
          "output_type": "stream",
          "text": [
            "Cloning into 'radio-astronomy-for-beginners'...\n",
            "remote: Enumerating objects: 112, done.\u001b[K\n",
            "remote: Counting objects: 100% (112/112), done.\u001b[K\n",
            "remote: Compressing objects: 100% (72/72), done.\u001b[K\n",
            "remote: Total 112 (delta 39), reused 112 (delta 39), pack-reused 0\u001b[K\n",
            "Receiving objects: 100% (112/112), 18.16 MiB | 8.66 MiB/s, done.\n",
            "Resolving deltas: 100% (39/39), done.\n"
          ],
          "name": "stdout"
        }
      ]
    },
    {
      "cell_type": "markdown",
      "metadata": {
        "id": "FET6WpYrkxPF"
      },
      "source": [
        "# Radio Astronomy with a Satellite Dish\n",
        "\n",
        "Michael Gaylard    \n",
        "Hartebeesthoek Radio Astronomy Observatory\n",
        "\n",
        "A \"classic\" radio telescope comprises a circular parabolic reflector with a feed horn at the focus to collect the\n",
        "incoming microwaves and pass them to transistor amplifiers in a receiver. A DSTV satellite dish also works\n",
        "in this way. It can be used as a mini-radio telescope by replacing the DSTV decoder with a radiometer for\n",
        "measuring the signal strength.\n",
        "\n",
        "Refer to project description `radio_astronomy_with_a_satellite_dish.pdf` for theory and detailed project description."
      ]
    },
    {
      "cell_type": "markdown",
      "metadata": {
        "id": "cYEu2C6IkxPG"
      },
      "source": [
        "## Gaussian fit to drift scan data"
      ]
    },
    {
      "cell_type": "markdown",
      "metadata": {
        "id": "vBIEr2VlkxPH"
      },
      "source": [
        "The Half-Power Beamwidth can be measured if the satellite dish is mounted so that its azimuth and elevation can be set and measured to an accuracy better than a degree.\n",
        "\n",
        "Then it is possible to set it to carry out a “drift scan” across the Sun. The drift scan will give a cross-section of the antenna beam pattern. The HPBW is the width between the points at which the signal is half its maximum value.\n",
        "\n",
        "To do this a prediction of the Sun’s position is needed - use a program such as Starcalc (https://www.calsky.com/cs.cgi/Sun/1) to predict its position in the near future. Recall that the Sun moves 1 degree in four minutes, so use the estimated separation of the first minima of the beam to calculate how far ahead you must position the antenna."
      ]
    },
    {
      "cell_type": "code",
      "metadata": {
        "id": "Ppd2khZ9kxPH"
      },
      "source": [
        "import matplotlib.pylab as plt\n",
        "import numpy as np"
      ],
      "execution_count": 2,
      "outputs": []
    },
    {
      "cell_type": "markdown",
      "metadata": {
        "id": "aEjV9wLMkxPK"
      },
      "source": [
        "Input the measured or example data"
      ]
    },
    {
      "cell_type": "code",
      "metadata": {
        "id": "xynqgok7kxPL"
      },
      "source": [
        "# read drift scan data\n",
        "filename = '/content/radio-astronomy-for-beginners/SolarBrightnessTemperature/tutorial/NASSP_2009_ped_sun_drift_scan_project.csv'  # example data file\n",
        "\n",
        "with open(filename, 'r') as fin:\n",
        "    # ignore header line\n",
        "    header = fin.readline()\n",
        "    # get data\n",
        "    text = fin.readlines()\n",
        "\n",
        "data = []\n",
        "for line in text:\n",
        "    # extract measured data and timestamps\n",
        "    data.append(np.array(line.strip().split(';')[2:], dtype=float))\n",
        "data = np.asarray(data)\n",
        "\n",
        "voltages = data[:, 0]\n",
        "timestamps = data[:, 1]"
      ],
      "execution_count": 3,
      "outputs": []
    },
    {
      "cell_type": "markdown",
      "metadata": {
        "id": "8TBSEuxFkxPN"
      },
      "source": [
        "Extract relevant measurements for calibration and calculation.\n",
        "\n",
        "On target and off target measurements will be used for calibration, while the last pointing observation will be used to calculate the Solar brightness temperature."
      ]
    },
    {
      "cell_type": "code",
      "metadata": {
        "id": "Gh_-iASCkxPO"
      },
      "source": [
        "# Off target measurments using timestamps 300 seconds to 600 seconds\n",
        "V1 = np.mean(voltages[300:600])\n",
        "# On target measurments using timestamps 2200 seconds to 2300 seconds\n",
        "V2 = np.mean(voltages[2200:2300])\n",
        "# Measurements from pointing using timestamps 3795 seconds to 3835 seconds\n",
        "V3 = np.mean(voltages[3795:3835])"
      ],
      "execution_count": 4,
      "outputs": []
    },
    {
      "cell_type": "code",
      "metadata": {
        "id": "OoCRchTkkxPR",
        "outputId": "1ec437b4-ef67-4132-de7b-0a84e15f94b6",
        "colab": {
          "base_uri": "https://localhost:8080/",
          "height": 334
        }
      },
      "source": [
        "fig= plt.subplots(figsize=(11,5),\n",
        "                  facecolor='white')\n",
        "ax = plt.subplot(111)\n",
        "ax.plot(timestamps, voltages, 'b.', label='raw data')\n",
        "ax.plot(timestamps[300:600], voltages[300:600], 'y.', label='off target')\n",
        "ax.plot(timestamps[2200:2300], voltages[2200:2300], 'm.', label='on target')\n",
        "ax.plot(timestamps[3795:3835], voltages[3795:3835], 'c.', label='pointing')\n",
        "ax.set_ylabel('Voltages [arb]')\n",
        "ax.set_xlabel('Timestamp [sec]')\n",
        "\n",
        "# Shrink current axis by 20%\n",
        "box = ax.get_position()\n",
        "ax.set_position([box.x0, box.y0, box.width * 0.8, box.height])\n",
        "\n",
        "# Put a legend to the right of the current axis\n",
        "ax.legend(loc='center left', bbox_to_anchor=(1, 0.5))\n",
        "plt.show()"
      ],
      "execution_count": 5,
      "outputs": [
        {
          "output_type": "display_data",
          "data": {
            "image/png": "[encoded data removed]",
            "text/plain": [
              "<Figure size 792x360 with 1 Axes>"
            ]
          },
          "metadata": {
            "tags": []
          }
        }
      ]
    },
    {
      "cell_type": "markdown",
      "metadata": {
        "id": "gGtiBld8kxPU"
      },
      "source": [
        "Units of time are converted to angle by noting that the Sun moves through 1 degree in 4 minutes / cos(declination). The Sun's declination is how far north or south of the equator it is at the time of observation. Its declination is -23.44$^\\circ$ on about Dec 21, 0$^\\circ$ on March 21 and September 21, and +23.44$^\\circ$ on June 21. It follows a sinusoidal path between those dates.\n",
        "\n",
        "Convert time [sec] to scan angle [deg]   \n",
        "$\\delta = \\frac{t}{240}\\cos(\\mbox{radians}(10))$"
      ]
    },
    {
      "cell_type": "code",
      "metadata": {
        "id": "KpAhdCIBkxPV"
      },
      "source": [
        "scan_angle = timestamps/240. *np.cos(np.radians(10))"
      ],
      "execution_count": 6,
      "outputs": []
    },
    {
      "cell_type": "markdown",
      "metadata": {
        "id": "fSJnosnZkxPX"
      },
      "source": [
        "Gaussian fit parameters   \n",
        "$g(x) = B + A \\exp \\left( \\frac{-(\\delta - P)^2}{2w^2} \\right)$,   \n",
        "where $B$ is a bias offset, $A$ is amplitude, $P$ is the peak position (mean) and $2w$ the HPBW (standard deviation)."
      ]
    },
    {
      "cell_type": "code",
      "metadata": {
        "id": "V4o9V39ekxPY"
      },
      "source": [
        "# Read / estimate gaussian fit parameters from data\n",
        "B = 90000\n",
        "A = 91500\n",
        "W = 2.55\n",
        "P = 9.1\n",
        "gaussian_fit = B + A * np.exp(-((scan_angle - P)**2) / (2*(W**2)))"
      ],
      "execution_count": 7,
      "outputs": []
    },
    {
      "cell_type": "code",
      "metadata": {
        "id": "wmbRdumNkxPb",
        "outputId": "01f2fcaa-2ddf-4ab8-fb2d-42192ec08969",
        "colab": {
          "base_uri": "https://localhost:8080/",
          "height": 334
        }
      },
      "source": [
        "fig= plt.subplots(figsize=(11,5),\n",
        "                  facecolor='white')\n",
        "ax = plt.subplot(111)\n",
        "ax.plot(scan_angle, voltages, 'b.', label='raw data')\n",
        "ax.plot(scan_angle, gaussian_fit, 'r', label='Gaussian fit')\n",
        "ax.set_ylabel('Voltages [arb]')\n",
        "ax.set_xlabel('Scan angle [deg]')\n",
        "\n",
        "# Shrink current axis by 20%\n",
        "box = ax.get_position()\n",
        "ax.set_position([box.x0, box.y0, box.width * 0.8, box.height])\n",
        "\n",
        "# Put a legend to the right of the current axis\n",
        "ax.legend(loc='center left', bbox_to_anchor=(1, 0.5))\n",
        "plt.show()"
      ],
      "execution_count": 8,
      "outputs": [
        {
          "output_type": "display_data",
          "data": {
            "image/png": "[encoded data removed]",
            "text/plain": [
              "<Figure size 792x360 with 1 Axes>"
            ]
          },
          "metadata": {
            "tags": []
          }
        }
      ]
    },
    {
      "cell_type": "markdown",
      "metadata": {
        "id": "uH0BXtSckxPd"
      },
      "source": [
        "## Calibrating the Radio Telescope"
      ]
    },
    {
      "cell_type": "markdown",
      "metadata": {
        "id": "VY9T7n-xkxPe"
      },
      "source": [
        "The satellite dish produces an output voltage proportional to the sum of the temperature of the object it is\n",
        "pointed at plus its own internal receiver temperature. We need to establish a scale of Kelvins per radiometer\n",
        "output unit. We do this by using the sky at zenith as a \"cold load\", and the ground as a \"hot load\"."
      ]
    },
    {
      "cell_type": "code",
      "metadata": {
        "id": "plSvbbBVkxPe"
      },
      "source": [
        "# Cold load\n",
        "Tsky = 7  # K\n",
        "\n",
        "# Hot load\n",
        "Tground = 290  # K (measured, or estimated from current temp)"
      ],
      "execution_count": 9,
      "outputs": []
    },
    {
      "cell_type": "markdown",
      "metadata": {
        "id": "fNu3DUzakxPi"
      },
      "source": [
        "Calculate $c$ and $T_R$ from   \n",
        "[1] $T_R + T_{sky} = cV_1$    \n",
        "[2] $T_R + T_{ground} = cV_2$"
      ]
    },
    {
      "cell_type": "markdown",
      "metadata": {
        "id": "Y1F_0rrkkxPj"
      },
      "source": [
        "Getting the voltage to temperature scale factor by subtracting Equation 2 from Equation 1:   \n",
        "$T_{ground} - T_{sky} = c(V_2 - V_1)$\n",
        "\n",
        "This can be recognised as the well known Y-factor calculation:    \n",
        "Y  = $\\frac{T_{hot}-T_{cold}}{T_{on}-T_{off}}$\n",
        "\n",
        "As well as $T_R$ from Equation 1"
      ]
    },
    {
      "cell_type": "code",
      "metadata": {
        "id": "h2F8d0xrkxPj",
        "outputId": "4f8ba10a-340e-46d0-cf98-8fdc31b3eba7",
        "colab": {
          "base_uri": "https://localhost:8080/",
          "height": 51
        }
      },
      "source": [
        "c = (Tground - Tsky)/(V2 - V1)\n",
        "print(f'Voltage to temperature scale factor c = {c}')\n",
        "Tr = c*V1 - Tsky  # [K]\n",
        "print(f'Receiver temperature Tr = {Tr:.3f} [K]')"
      ],
      "execution_count": 10,
      "outputs": [
        {
          "output_type": "stream",
          "text": [
            "Voltage to temperature scale factor c = 0.003129980185214098\n",
            "Receiver temperature Tr = 277.094 [K]\n"
          ],
          "name": "stdout"
        }
      ]
    },
    {
      "cell_type": "markdown",
      "metadata": {
        "id": "4PL4Js9BkxPl"
      },
      "source": [
        "From a pointing at the Sun, get a reading V3 and calculate the antenna temperature of the Sun   \n",
        "[3] $T_R + T_{sky} + T_A = c V_3$"
      ]
    },
    {
      "cell_type": "code",
      "metadata": {
        "scrolled": true,
        "id": "FLRM9H4ikxPm",
        "outputId": "635d2547-90b6-4d0e-ef72-4055cd48222a",
        "colab": {
          "base_uri": "https://localhost:8080/",
          "height": 34
        }
      },
      "source": [
        "Ta = c*V3 - Tsky - Tr  # [K]\n",
        "print(f'Measured antenna temperature of the Sun Ta = {Ta:.3f} [K]')"
      ],
      "execution_count": 11,
      "outputs": [
        {
          "output_type": "stream",
          "text": [
            "Measured antenna temperature of the Sun Ta = 287.471 [K]\n"
          ],
          "name": "stdout"
        }
      ]
    },
    {
      "cell_type": "markdown",
      "metadata": {
        "id": "LzWGw50nkxPo"
      },
      "source": [
        "To obtain the brightness temperature $T_B$ of the emitter from its measured antenna temperature $T_A$, we\n",
        "measure the angular sizes of the emitter and the telescope beam and correct for these. Thus, we need the angular diameters of the Sun and the telescope beam to get their solid angles.\n",
        "\n",
        "The first minimum or null in the pattern occurs at a radius of about $1.2 * \\lambda/D$ radians, so the beamwidth to first nulls is   \n",
        "$ BWFN = 2.4 \\lambda/D$ [radians].\n",
        "\n",
        "The beamwidth at the half-power points (HPBW), also called the Full Width at Half Maximum (FWHM) is about half the BWFN:    \n",
        "$HPBW = FWHM \\approx 1.1\\lambda/D$ [radians]."
      ]
    },
    {
      "cell_type": "code",
      "metadata": {
        "id": "YCKwkwigkxPo",
        "outputId": "938d8143-fb1b-4df5-f425-f7bcbb6cde36",
        "colab": {
          "base_uri": "https://localhost:8080/",
          "height": 34
        }
      },
      "source": [
        "HPBW = 2.* W  # [deg]\n",
        "print(f'Antenna half-power beam-width from drift scan HPBW = {HPBW} [deg]')"
      ],
      "execution_count": 12,
      "outputs": [
        {
          "output_type": "stream",
          "text": [
            "Antenna half-power beam-width from drift scan HPBW = 5.1 [deg]\n"
          ],
          "name": "stdout"
        }
      ]
    },
    {
      "cell_type": "markdown",
      "metadata": {
        "id": "9FJel3UqkxPr"
      },
      "source": [
        "As the projection of the antenna beam onto the sky is two-dimensional, we shall need to find the angular area that\n",
        "it covers. Angular area is called a \"solid angle\" and the units are radians$^2$, or steradians (sr).\n",
        "\n",
        "The beam solid angle $\\Omega_{GB}$ of a Gaussian beam can be obtained from the HPBW - in units of radians - using    \n",
        "[4] $\\Omega_{GB} = \\frac{\\pi}{4\\ln 2} (HPBW)^2 \\approx 1.133(HPBW)^2$ [sr]."
      ]
    },
    {
      "cell_type": "code",
      "metadata": {
        "id": "RP151o-TkxPr",
        "outputId": "ab8c50ff-74f0-4555-e30c-5b40572f329b",
        "colab": {
          "base_uri": "https://localhost:8080/",
          "height": 34
        }
      },
      "source": [
        "Obeam = 1.133 * np.radians(HPBW)**2  # [sr]\n",
        "print(f'Solid angle for Gaussian beam Obeam = {Obeam} [sr]')"
      ],
      "execution_count": 13,
      "outputs": [
        {
          "output_type": "stream",
          "text": [
            "Solid angle for Gaussian beam Obeam = 0.008976871267443044 [sr]\n"
          ],
          "name": "stdout"
        }
      ]
    },
    {
      "cell_type": "markdown",
      "metadata": {
        "id": "nw5xfrRKkxPt"
      },
      "source": [
        "Including allowance for the beam efficiency of a typical reflector antenna ($85\\%$).    \n",
        "$\\eta_b = \\frac{\\Omega_{GB}}{\\Omega_A} => \\Omega_A = \\frac{\\Omega_{GB}}{\\eta_b}$    \n",
        "[5] $\\Omega_A = \\frac{1.133 HPBW^2}{0.85} = 1.33294 \\times HPBW^2 \\approx 4/3 \\times HPBW^2$ [sr]."
      ]
    },
    {
      "cell_type": "code",
      "metadata": {
        "id": "h-EbfHi5kxPu",
        "outputId": "c87cc76c-c6c8-4ad9-ea9b-3036281084eb",
        "colab": {
          "base_uri": "https://localhost:8080/",
          "height": 34
        }
      },
      "source": [
        "Oa = Obeam/0.85\n",
        "print(f'Beam solid angle Oa = {Oa} [sr]')"
      ],
      "execution_count": 14,
      "outputs": [
        {
          "output_type": "stream",
          "text": [
            "Beam solid angle Oa = 0.010561025020521229 [sr]\n"
          ],
          "name": "stdout"
        }
      ]
    },
    {
      "cell_type": "markdown",
      "metadata": {
        "id": "bYKvzt2VkxPw"
      },
      "source": [
        "An object with an angular radius $\\theta$ radians subtends a solid angle   \n",
        "[6] $\\Omega = 2\\pi(1 − \\cos \\theta)$ [sr].\n",
        "\n",
        "For small $\\theta$,\n",
        "$\\Omega = \\pi\\theta^2$ [sr].\n",
        "We can use this equation to calculate the solid angle of the Sun, $\\Omega_s$"
      ]
    },
    {
      "cell_type": "code",
      "metadata": {
        "id": "d_bnkvi9kxPw",
        "outputId": "a90b8be7-736f-487f-f78e-a3fc2c55da9a",
        "colab": {
          "base_uri": "https://localhost:8080/",
          "height": 34
        }
      },
      "source": [
        "Os = np.pi * np.radians(0.6/2)**2  # [sr]\n",
        "print(f'Solid angle of the Sun Os = {Os} [sr]')"
      ],
      "execution_count": 15,
      "outputs": [
        {
          "output_type": "stream",
          "text": [
            "Solid angle of the Sun Os = 8.612854633416615e-05 [sr]\n"
          ],
          "name": "stdout"
        }
      ]
    },
    {
      "cell_type": "markdown",
      "metadata": {
        "id": "c-t30_32kxPz"
      },
      "source": [
        "The Sun's brightness temperature $T_B$ can then be estimated by scaling its measured antenna temperature $T_A$ by the ratio of the beam solid angle $\\Omega_A$ to the Sun's solid angle $\\Omega_s$:\n",
        "\n",
        "[7] $T_B = \\frac{\\Omega_A T_A}{\\Omega_s}$ [K]."
      ]
    },
    {
      "cell_type": "code",
      "metadata": {
        "id": "N-N1dbZmkxPz",
        "outputId": "b9643fc3-ceab-45a5-cdd4-42bb356b9dde",
        "colab": {
          "base_uri": "https://localhost:8080/",
          "height": 34
        }
      },
      "source": [
        "Tb = Oa*Ta / Os  # [K]\n",
        "print(f'Estimated brightness temperature of the Sun Tb = {Tb:.2f} [K]')"
      ],
      "execution_count": 16,
      "outputs": [
        {
          "output_type": "stream",
          "text": [
            "Estimated brightness temperature of the Sun Tb = 35249.53 [K]\n"
          ],
          "name": "stdout"
        }
      ]
    },
    {
      "cell_type": "code",
      "metadata": {
        "id": "YK1p5md-kxP1"
      },
      "source": [
        ""
      ],
      "execution_count": 16,
      "outputs": []
    }
  ]
}